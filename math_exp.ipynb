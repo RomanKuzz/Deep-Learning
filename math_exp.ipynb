{
 "cells": [
  {
   "cell_type": "code",
   "execution_count": 31,
   "metadata": {},
   "outputs": [],
   "source": [
    "import numpy as np"
   ]
  },
  {
   "cell_type": "code",
   "execution_count": 32,
   "metadata": {},
   "outputs": [],
   "source": [
    "def sigmoid(x):\n",
    "    return 1 / (1 + np.exp(-x))"
   ]
  },
  {
   "cell_type": "code",
   "execution_count": 33,
   "metadata": {},
   "outputs": [],
   "source": [
    "def sigmoid_derivative(x):\n",
    "    return x * (1 - x)"
   ]
  },
  {
   "cell_type": "code",
   "execution_count": 34,
   "metadata": {},
   "outputs": [],
   "source": [
    "# Input dataset (4 samples with 2 features each, used defolt values for XY)\n",
    "X = np.array([[0, 0],\n",
    "              [0, 1],\n",
    "              [1, 0],\n",
    "              [1, 1]])\n",
    "\n",
    "# Output dataset (4 samples with 1 output each)\n",
    "y = np.array([[0],\n",
    "              [1],\n",
    "              [1],\n",
    "              [0]])\n",
    "\n",
    "# Seed the random number generator for reproducibility\n",
    "np.random.seed(1)\n",
    "\n",
    "# Initialize weights randomly with mean 0\n",
    "weights = np.random.rand(2, 1)\n",
    "bias = np.random.rand(1)"
   ]
  },
  {
   "cell_type": "code",
   "execution_count": 35,
   "metadata": {},
   "outputs": [
    {
     "name": "stdout",
     "output_type": "stream",
     "text": [
      "Weights after training: [[2.46437842e-16]\n",
      " [2.47707080e-16]]\n",
      "Bias after training: [-3.31799647e-16]\n"
     ]
    }
   ],
   "source": [
    "# Training parameters\n",
    "learning_rate = 0.1\n",
    "epochs = 10000\n",
    "\n",
    "# Training loop\n",
    "for epoch in range(epochs):\n",
    "    # Forward propagation\n",
    "    input_layer = X\n",
    "    linear_output = np.dot(input_layer, weights) + bias\n",
    "    predictions = sigmoid(linear_output)\n",
    "    \n",
    "    # Calculate the error (difference between the predicted and actual values)\n",
    "    error = y - predictions\n",
    "    \n",
    "    # Backpropagation\n",
    "    # Compute the adjustments\n",
    "    adjustments = error * sigmoid_derivative(predictions)\n",
    "    \n",
    "    # Update weights and bias\n",
    "    weights += np.dot(input_layer.T, adjustments) * learning_rate\n",
    "    bias += np.sum(adjustments) * learning_rate\n",
    "\n",
    "print(\"Weights after training:\", weights)\n",
    "print(\"Bias after training:\", bias)"
   ]
  }
 ],
 "metadata": {
  "kernelspec": {
   "display_name": "Python 3",
   "language": "python",
   "name": "python3"
  },
  "language_info": {
   "codemirror_mode": {
    "name": "ipython",
    "version": 3
   },
   "file_extension": ".py",
   "mimetype": "text/x-python",
   "name": "python",
   "nbconvert_exporter": "python",
   "pygments_lexer": "ipython3",
   "version": "3.9.13"
  }
 },
 "nbformat": 4,
 "nbformat_minor": 2
}
